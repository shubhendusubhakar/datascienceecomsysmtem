{
 "cells": [
  {
   "cell_type": "markdown",
   "id": "ff1c9550-47c7-4fd9-824e-448f285b40fc",
   "metadata": {},
   "source": [
    "# Data Science Tools and Ecosystem"
   ]
  },
  {
   "cell_type": "markdown",
   "id": "9492c2a0-56e1-4cd5-ae4e-95268316e0de",
   "metadata": {},
   "source": [
    "In this notebook, Data Science Tools and Ecosystem are summarized."
   ]
  },
  {
   "cell_type": "markdown",
   "id": "ad3d7ba8-672a-4f57-820d-82e3c9b30281",
   "metadata": {},
   "source": [
    "Some of the popular languages that Data Scientists use are:\n",
    "1. python\n",
    "2. R\n",
    "3. SQL\n",
    "4. Scala \n",
    "5. java\n",
    "6. Ruby\n"
   ]
  },
  {
   "cell_type": "markdown",
   "id": "e63db7a5-3198-49f6-8133-4dee501cbb3f",
   "metadata": {},
   "source": [
    "Some of the commonly used libraries used by Data Scientists include:\n",
    "1. Pandas\n",
    "2. Numpy\n",
    "3. Matplotlib\n",
    "4. Seaborn\n",
    "5. Scikit-learn\n",
    "6. Keras\n",
    "7. TensorFlow\n",
    "8. Pytorch"
   ]
  },
  {
   "cell_type": "markdown",
   "id": "7cb1f608-a993-4f82-b8b1-f09cc3b71005",
   "metadata": {},
   "source": [
    "|Data Science Tools|\n",
    "|---|\n",
    "|Anaconda|\n",
    "|Jupyter Notebooks|\n",
    "|R studio|\n",
    "|Spyder|\n",
    "|Zeppelin|"
   ]
  },
  {
   "cell_type": "markdown",
   "id": "1cbde730-58b8-49a8-8bd0-34ca32e5f16a",
   "metadata": {},
   "source": [
    "##### Below are a few examples of evaluating arithmetic expressions in python\n"
   ]
  },
  {
   "cell_type": "code",
   "execution_count": 10,
   "id": "489acc5b-866a-4622-ae61-4c934ead95f4",
   "metadata": {
    "tags": []
   },
   "outputs": [
    {
     "data": {
      "text/plain": [
       "17"
      ]
     },
     "execution_count": 10,
     "metadata": {},
     "output_type": "execute_result"
    }
   ],
   "source": [
    "#this is a simple arithmetic expression to multiply then add integers\n",
    "(3*4)+5"
   ]
  },
  {
   "cell_type": "code",
   "execution_count": 12,
   "id": "4400f362-5f90-4f39-99de-71fa593710b9",
   "metadata": {
    "tags": []
   },
   "outputs": [
    {
     "data": {
      "text/plain": [
       "3"
      ]
     },
     "execution_count": 12,
     "metadata": {},
     "output_type": "execute_result"
    }
   ],
   "source": [
    "#this will convert 200 minutess to hours by dividing by 60\n",
    "#total minutes divided by 60\n",
    "200//60"
   ]
  },
  {
   "cell_type": "markdown",
   "id": "591faa13-3887-4318-8429-11eac04985c7",
   "metadata": {},
   "source": [
    "### Objectives:\n",
    "* add comments to code cells\n",
    "* Create markdown cells\n",
    "* Add ordered and inordered lists to markdown cells\n",
    "* Format content of markdown cells with heading styles"
   ]
  },
  {
   "cell_type": "markdown",
   "id": "8531ddee-d8d5-4ee7-b476-5d00ad1d8f00",
   "metadata": {},
   "source": [
    "### Author\n",
    "shubhendu subhakar"
   ]
  },
  {
   "cell_type": "code",
   "execution_count": null,
   "id": "41d4cb69-0539-42bf-972a-0ec1dfeae8f3",
   "metadata": {},
   "outputs": [],
   "source": []
  }
 ],
 "metadata": {
  "kernelspec": {
   "display_name": "Python",
   "language": "python",
   "name": "conda-env-python-py"
  },
  "language_info": {
   "codemirror_mode": {
    "name": "ipython",
    "version": 3
   },
   "file_extension": ".py",
   "mimetype": "text/x-python",
   "name": "python",
   "nbconvert_exporter": "python",
   "pygments_lexer": "ipython3",
   "version": "3.7.12"
  }
 },
 "nbformat": 4,
 "nbformat_minor": 5
}
